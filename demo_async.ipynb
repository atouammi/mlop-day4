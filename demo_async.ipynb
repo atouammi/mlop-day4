{
 "cells": [
  {
   "cell_type": "code",
   "execution_count": 1,
   "metadata": {},
   "outputs": [
    {
     "name": "stdout",
     "output_type": "stream",
     "text": [
      "Starting task Task 1: 18:19:59\n",
      "Finished task Task 1: 18:20:02\n",
      "Starting task Task 2: 18:20:02\n",
      "Finished task Task 2: 18:20:09\n",
      "All tasks finished\n"
     ]
    }
   ],
   "source": [
    "import time\n",
    "\n",
    "def slow_task(name, delay):\n",
    "    print(f\"Starting task {name}: {time.strftime('%X')}\")\n",
    "    time.sleep(delay)\n",
    "    print(f\"Finished task {name}: {time.strftime('%X')}\")\n",
    "\n",
    "def main():\n",
    "    slow_task(\"Task 1\", 3)\n",
    "    slow_task(\"Task 2\", 7)\n",
    "    print(\"All tasks finished\")\n",
    "\n",
    "main()"
   ]
  },
  {
   "cell_type": "code",
   "execution_count": 5,
   "metadata": {},
   "outputs": [],
   "source": [
    "import asyncio\n",
    "import time\n",
    "\n",
    "async def slow_task(name, delay):\n",
    "    print(f\"Starting task {name}: {time.strftime('%X')}\")\n",
    "    await asyncio.sleep(delay)\n",
    "    print(f\"Finished task {name}: {time.strftime('%X')}\")\n",
    "\n",
    "async def main():\n",
    "    await slow_task(\"Task 1\", 3)\n",
    "    await slow_task(\"Task 2\", 7)\n",
    "    print(\"All tasks finished\")\n",
    "\n",
    "asyncio.run(main())"
   ]
  },
  {
   "cell_type": "code",
   "execution_count": 6,
   "metadata": {},
   "outputs": [
    {
     "ename": "RuntimeError",
     "evalue": "asyncio.run() cannot be called from a running event loop",
     "output_type": "error",
     "traceback": [
      "\u001b[0;31m---------------------------------------------------------------------------\u001b[0m",
      "\u001b[0;31mRuntimeError\u001b[0m                              Traceback (most recent call last)",
      "Cell \u001b[0;32mIn[6], line 24\u001b[0m\n\u001b[1;32m     21\u001b[0m     \u001b[38;5;28;01mawait\u001b[39;00m task2\n\u001b[1;32m     22\u001b[0m     \u001b[38;5;28mprint\u001b[39m(\u001b[38;5;124mf\u001b[39m\u001b[38;5;124m\"\u001b[39m\u001b[38;5;124mAwaited task 2: \u001b[39m\u001b[38;5;132;01m{\u001b[39;00mtime\u001b[38;5;241m.\u001b[39mstrftime(\u001b[38;5;124m'\u001b[39m\u001b[38;5;132;01m%X\u001b[39;00m\u001b[38;5;124m'\u001b[39m)\u001b[38;5;132;01m}\u001b[39;00m\u001b[38;5;124m\"\u001b[39m)\n\u001b[0;32m---> 24\u001b[0m asyncio\u001b[38;5;241m.\u001b[39mrun(main())\n",
      "File \u001b[0;32m~/anaconda3/lib/python3.11/asyncio/runners.py:186\u001b[0m, in \u001b[0;36mrun\u001b[0;34m(main, debug)\u001b[0m\n\u001b[1;32m    161\u001b[0m \u001b[38;5;250m\u001b[39m\u001b[38;5;124;03m\"\"\"Execute the coroutine and return the result.\u001b[39;00m\n\u001b[1;32m    162\u001b[0m \n\u001b[1;32m    163\u001b[0m \u001b[38;5;124;03mThis function runs the passed coroutine, taking care of\u001b[39;00m\n\u001b[0;32m   (...)\u001b[0m\n\u001b[1;32m    182\u001b[0m \u001b[38;5;124;03m    asyncio.run(main())\u001b[39;00m\n\u001b[1;32m    183\u001b[0m \u001b[38;5;124;03m\"\"\"\u001b[39;00m\n\u001b[1;32m    184\u001b[0m \u001b[38;5;28;01mif\u001b[39;00m events\u001b[38;5;241m.\u001b[39m_get_running_loop() \u001b[38;5;129;01mis\u001b[39;00m \u001b[38;5;129;01mnot\u001b[39;00m \u001b[38;5;28;01mNone\u001b[39;00m:\n\u001b[1;32m    185\u001b[0m     \u001b[38;5;66;03m# fail fast with short traceback\u001b[39;00m\n\u001b[0;32m--> 186\u001b[0m     \u001b[38;5;28;01mraise\u001b[39;00m \u001b[38;5;167;01mRuntimeError\u001b[39;00m(\n\u001b[1;32m    187\u001b[0m         \u001b[38;5;124m\"\u001b[39m\u001b[38;5;124masyncio.run() cannot be called from a running event loop\u001b[39m\u001b[38;5;124m\"\u001b[39m)\n\u001b[1;32m    189\u001b[0m \u001b[38;5;28;01mwith\u001b[39;00m Runner(debug\u001b[38;5;241m=\u001b[39mdebug) \u001b[38;5;28;01mas\u001b[39;00m runner:\n\u001b[1;32m    190\u001b[0m     \u001b[38;5;28;01mreturn\u001b[39;00m runner\u001b[38;5;241m.\u001b[39mrun(main)\n",
      "\u001b[0;31mRuntimeError\u001b[0m: asyncio.run() cannot be called from a running event loop"
     ]
    }
   ],
   "source": [
    "import asyncio\n",
    "import time\n",
    "\n",
    "async def slow_task(name, delay):\n",
    "    print(f\"Starting task {name}: {time.strftime('%X')}\")\n",
    "    await asyncio.sleep(delay)\n",
    "    print(f\"Finished task {name}: {time.strftime('%X')}\")\n",
    "\n",
    "async def main():\n",
    "    print(f\"Starting: {time.strftime('%X')}\")\n",
    "\n",
    "    task1 = asyncio.create_task(slow_task(\"Task 1\", 3))\n",
    "    print(f\"Created task 1: {time.strftime('%X')}\")\n",
    "\n",
    "    task2 = asyncio.create_task(slow_task(\"Task 2\", 7))\n",
    "    print(f\"Created task 2: {time.strftime('%X')}\")\n",
    "\n",
    "    await task1\n",
    "    print(f\"Awaited task 1: {time.strftime('%X')}\")\n",
    "\n",
    "    await task2\n",
    "    print(f\"Awaited task 2: {time.strftime('%X')}\")\n",
    "\n",
    "asyncio.run(main())"
   ]
  },
  {
   "cell_type": "code",
   "execution_count": null,
   "metadata": {},
   "outputs": [],
   "source": []
  }
 ],
 "metadata": {
  "kernelspec": {
   "display_name": "base",
   "language": "python",
   "name": "python3"
  },
  "language_info": {
   "codemirror_mode": {
    "name": "ipython",
    "version": 3
   },
   "file_extension": ".py",
   "mimetype": "text/x-python",
   "name": "python",
   "nbconvert_exporter": "python",
   "pygments_lexer": "ipython3",
   "version": "3.11.5"
  }
 },
 "nbformat": 4,
 "nbformat_minor": 2
}
